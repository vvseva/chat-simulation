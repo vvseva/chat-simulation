{
 "cells": [
  {
   "cell_type": "code",
   "id": "e0cfb785-1f8a-492d-82d4-25c32411d8c7",
   "metadata": {
    "ExecuteTime": {
     "end_time": "2024-07-24T23:58:25.850202Z",
     "start_time": "2024-07-24T23:58:25.764981Z"
    }
   },
   "source": [
    "import os\n",
    "from dotenv import load_dotenv\n",
    "load_dotenv()\n",
    "\n",
    "from great_tables import GT\n",
    "import pandas as pd\n",
    "from openai import OpenAI\n",
    "\n",
    "OPENAI_API_KEY = os.getenv('OPENAI_API_KEY')"
   ],
   "outputs": [
    {
     "ename": "ModuleNotFoundError",
     "evalue": "No module named 'dotenv'",
     "output_type": "error",
     "traceback": [
      "\u001B[0;31m---------------------------------------------------------------------------\u001B[0m",
      "\u001B[0;31mModuleNotFoundError\u001B[0m                       Traceback (most recent call last)",
      "Cell \u001B[0;32mIn[1], line 2\u001B[0m\n\u001B[1;32m      1\u001B[0m \u001B[38;5;28;01mimport\u001B[39;00m \u001B[38;5;21;01mos\u001B[39;00m\n\u001B[0;32m----> 2\u001B[0m \u001B[38;5;28;01mfrom\u001B[39;00m \u001B[38;5;21;01mdotenv\u001B[39;00m \u001B[38;5;28;01mimport\u001B[39;00m load_dotenv\n\u001B[1;32m      3\u001B[0m load_dotenv()\n\u001B[1;32m      5\u001B[0m \u001B[38;5;28;01mfrom\u001B[39;00m \u001B[38;5;21;01mgreat_tables\u001B[39;00m \u001B[38;5;28;01mimport\u001B[39;00m GT\n",
      "\u001B[0;31mModuleNotFoundError\u001B[0m: No module named 'dotenv'"
     ]
    }
   ],
   "execution_count": 1
  },
  {
   "cell_type": "code",
   "execution_count": 6,
   "id": "initial_id",
   "metadata": {
    "ExecuteTime": {
     "end_time": "2024-07-17T17:13:41.335814Z",
     "start_time": "2024-07-17T17:13:41.292137Z"
    },
    "collapsed": true,
    "jupyter": {
     "outputs_hidden": true
    }
   },
   "outputs": [],
   "source": [
    "\n",
    "client = OpenAI(api_key=OPENAI_API_KEY)\n",
    "\n",
    "# Function to generate a response from a GPT model\n",
    "def generate_response(prompt, model=\"gpt-4o\"):\n",
    "    response = client.chat.completions.create(\n",
    "        model=model,\n",
    "        messages=[\n",
    "{\"role\": \"system\", \"content\": \"You are a helpful assistant.\"},\n",
    "            {\"role\": \"user\", \"content\": prompt}\n",
    "        ]\n",
    "    )\n",
    "    return response.choices[0].message.content\n",
    "\n"
   ]
  },
  {
   "cell_type": "code",
   "execution_count": 7,
   "id": "397d8faaf2e60f05",
   "metadata": {
    "ExecuteTime": {
     "end_time": "2024-07-17T17:13:48.896619Z",
     "start_time": "2024-07-17T17:13:47.412990Z"
    }
   },
   "outputs": [],
   "source": [
    "r1 = generate_response(\"What do you think?\")"
   ]
  },
  {
   "cell_type": "code",
   "execution_count": 10,
   "id": "5028fbda5d222b04",
   "metadata": {
    "ExecuteTime": {
     "end_time": "2024-07-17T17:14:08.654515Z",
     "start_time": "2024-07-17T17:14:08.650192Z"
    }
   },
   "outputs": [
    {
     "data": {
      "text/plain": [
       "ChatCompletionMessage(content=\"I’d be happy to provide feedback, but I'll need more details to understand what you're asking about. Could you please provide more context or clarify your question?\", role='assistant', function_call=None, tool_calls=None)"
      ]
     },
     "execution_count": 10,
     "metadata": {},
     "output_type": "execute_result"
    }
   ],
   "source": [
    "r1.choices[0].message"
   ]
  },
  {
   "cell_type": "code",
   "execution_count": 13,
   "id": "f0d6b08a5b141663",
   "metadata": {
    "ExecuteTime": {
     "end_time": "2024-07-17T17:16:09.149330Z",
     "start_time": "2024-07-17T17:16:09.143941Z"
    }
   },
   "outputs": [],
   "source": [
    "# Function to generate a response from a GPT model\n",
    "def generate_response(prompt, system_content):\n",
    "    response = client.chat.completions.create(\n",
    "        model=\"gpt-4o\",\n",
    "        messages=[\n",
    "            {\"role\": \"system\", \"content\": system_content},\n",
    "            {\"role\": \"user\", \"content\": prompt}\n",
    "        ]\n",
    "    )\n",
    "    return response.choices[0].message.content\n",
    "\n",
    "\n",
    "my_chat_history = []\n",
    "# Simulate a group chat with 3 agents\n",
    "def simulate_group_chat(num_turns=2, chat_history = my_chat_history):\n",
    "    agents = {\n",
    "        \"Life Scientist\": \"As a Life Scientist, your mission is to help select the best landing site for a 6-member international crew (3 US, 3 Russian) traveling 140 million miles from the Moon to Mars to establish the first human scientific outpost. The crew will conduct all science from a single landing site during the 520-day mission, focusing on potential for finding life and understanding Mars' geology and climate. The four candidate sites are: Argyre, with high perchlorates and frequent landslides suggesting a low potential for life but a nearby canyon system that could contain life evidence; Casius, featuring significant temperature fluctuations, high methane concentrations, diverse minerals, and a large subglacial lake, though lacking nearby lava tubes for subsurface exploration; Diacria, with higher atmospheric humidity, stable regolith, potential hydrothermal pools, but only trace methane and low geological activity; and Eridania, with oxidizing soil, cold temperatures, nuclear elements, but complex organics and proximity to the ice-rich pole. Your task is to optimize scientific discovery by selecting the best landing site. KEEP YOUR REPLIES SHORT  LIKE AN ACTUAL HUMAN IN A GROUP CHAT.  If messages become repetitive reply with TERMINATE. start each message with 'Life Scientist:'\",\n",
    "        \"Climate Scientist\": \"As a Climate Scientist, your mission is to assist a 6-member international crew (3 US, 3 Russian) in selecting the optimal landing site on Mars for a 520-day scientific outpost. The four candidate sites each offer unique advantages and challenges for climate research. Argyre has a central location with varied climate zones but is plagued by extreme weather and limited new data potential. Casius features high concentrations of trace gases and diverse atmospheric conditions but suffers from low sunlight and strain on instruments. Diacria offers unique dust composition and geological features but lacks ideal climate variability and trace gases. Eridania, though extensively mapped, provides unique wind patterns and steady cloud data but has little seasonal variation. Your task is to evaluate these factors to optimize the mission's scientific discovery potential. KEEP YOUR REPLIES SHORT  LIKE AN ACTUAL HUMAN IN A GROUP CHAT. start each message with 'Climate Scientist:'\",\n",
    "        \"Geology Scientist\": \"As a Geology Scientist, your task is to help select the optimal landing site for a 6-member international crew (3 US, 3 Russian) embarking on a mission to establish the first human scientific outpost on Mars. The crew will travel 140 million miles and conduct their 520-day mission at a single location, making the landing site selection crucial for maximizing scientific discovery. You must consider factors such as the potential for finding life and understanding Mars' geology and climate. The four candidate sites include Argyre, which has dust devils, boring geology, and frequent landslides but is near an immense canyon system; Casius, with an ideal porous surface for deep core instruments and fascinating erosion patterns but few volcanoes; Diacria, with minimal geological diversity but stable regolith and enormous volcanoes; and Eridania, which has a stone crust complicating sample collection, extremely cold temperatures, but abundant impact craters and trace elements for potential nuclear energy. KEEP YOUR REPLIES SHORT  LIKE AN ACTUAL HUMAN IN A GROUP CHAT. start each message with 'Geology Scientist:'\"\n",
    "    }\n",
    "\n",
    "    # Initialize the chat with a starting message\n",
    "    current_message = \"What is the best landing location?\"\n",
    "    chat_history.append((\"System\", current_message))\n",
    "\n",
    "    for i in range(num_turns):\n",
    "        for agent, system_content in agents.items():\n",
    "            prompt = \"\\n\".join([f\"{role}: {content}\" for role, content in chat_history])\n",
    "            prompt += f\"\\n{agent}:\"\n",
    "            response = generate_response(prompt, system_content)\n",
    "            chat_history.append((agent, response))\n",
    "            print(f\"{agent}: {response}\")\n",
    "            \n",
    "    return chat_history"
   ]
  },
  {
   "cell_type": "code",
   "execution_count": 14,
   "id": "4de01fe8c566a2aa",
   "metadata": {
    "ExecuteTime": {
     "end_time": "2024-07-17T17:16:26.016296Z",
     "start_time": "2024-07-17T17:16:11.742407Z"
    }
   },
   "outputs": [
    {
     "name": "stdout",
     "output_type": "stream",
     "text": [
      "Life Scientist: Life Scientist: Let's break down the options. Argyre has interesting canyons but low life potential. Casius has methane and a subglacial lake which is promising. Diacria's hydrothermal pools are also intriguing, and Eridania's complex organics and ice proximity are strong points. For life discovery, Casius with its methane and subglacial lake seems most promising. Thoughts?\n",
      "Climate Scientist: Climate Scientist: For climate research, Casius is promising due to diverse atmospheric conditions and trace gases. However, the low sunlight and instrument strain need consideration. Balancing pros and cons, I'd say Casius aligns well with climate and life science priorities. Any other thoughts?\n",
      "Geology Scientist: Geology Scientist: From a geological perspective, Casius offers ideal substrates for deep core analysis and fascinating erosion patterns, which can give us significant insights into Mars' history. While it lacks volcanic activity, its overall geological promise aligns well with the mission. Diacria's regolith stability is a plus, but its lack of diversity limits its scientific yield. I support Casius for its balanced benefits across disciplines.\n",
      "Life Scientist: Life Scientist: Based on the inputs, Casius has strong potential for finding life due to high methane and the subglacial lake, making it a top choice for our mission's goals. The diverse minerals and support from both climate and geology perspectives further solidify its standing. I agree with Casius. Final consensus?\n",
      "Climate Scientist: Climate Scientist: With consensus on Casius, addressing its cons (low sunlight, instrument strain) is critical. The site supports robust climate and life science objectives. To maximize output, we'll need to plan power management and instrument durability carefully. Final agreement on Casius?\n",
      "Geology Scientist: Geology Scientist: I agree. Casius offers unique geological features like deep core substrates and intriguing erosion patterns, providing a balanced and rich scientific opportunity. Addressing its logistical challenges is key, but its potential outweighs these. Let's finalize Casius as our optimal choice.\n"
     ]
    }
   ],
   "source": [
    "r1 = simulate_group_chat()"
   ]
  },
  {
   "cell_type": "code",
   "id": "4b908a0f3bbad993",
   "metadata": {
    "ExecuteTime": {
     "end_time": "2024-07-18T15:37:44.842403Z",
     "start_time": "2024-07-18T15:37:44.837677Z"
    }
   },
   "source": [
    "# Function to generate a response from a GPT model\n",
    "def generate_response(prompt, system_content, chat_history, agent):\n",
    "    messages = [\n",
    "        {\"role\": \"system\", \"content\": system_content}\n",
    "    ]\n",
    "    # Add all prior messages in the correct format\n",
    "    for role, content in chat_history:\n",
    "        messages.append({\n",
    "            \"role\": \"user\" if role != agent else \"assistant\",\n",
    "            \"content\": content\n",
    "        })\n",
    "\n",
    "    response = client.chat.completions.create(\n",
    "        model=\"gpt-4o\",\n",
    "        messages=messages\n",
    "    )\n",
    "    return response.choices[0].message.content\n",
    "\n",
    "my_chat_history = []\n",
    "\n",
    "# Simulate a group chat with 3 agents\n",
    "def simulate_group_chat(num_turns=2, chat_history=my_chat_history, current_message = \"What is the best landing location?\"):\n",
    "    agents = {\n",
    "        \"Life Scientist\": \"As a Life Scientist, your mission is to help select the best landing site for a 6-member international crew (3 US, 3 Russian) traveling 140 million miles from the Moon to Mars to establish the first human scientific outpost. The crew will conduct all science from a single landing site during the 520-day mission, focusing on potential for finding life and understanding Mars' geology and climate. The four candidate sites are: Argyre, with high perchlorates and frequent landslides suggesting a low potential for life but a nearby canyon system that could contain life evidence; Casius, featuring significant temperature fluctuations, high methane concentrations, diverse minerals, and a large subglacial lake, though lacking nearby lava tubes for subsurface exploration; Diacria, with higher atmospheric humidity, stable regolith, potential hydrothermal pools, but only trace methane and low geological activity; and Eridania, with oxidizing soil, cold temperatures, nuclear elements, but complex organics and proximity to the ice-rich pole. Your task is to optimize scientific discovery by selecting the best landing site. KEEP YOUR REPLIES SHORT  LIKE AN ACTUAL HUMAN IN A GROUP CHAT.  If messages become repetitive reply with TERMINATE. start each message with 'Life Scientist:'\",\n",
    "        \"Climate Scientist\": \"As a Climate Scientist, your mission is to assist a 6-member international crew (3 US, 3 Russian) in selecting the optimal landing site on Mars for a 520-day scientific outpost. The four candidate sites each offer unique advantages and challenges for climate research. Argyre has a central location with varied climate zones but is plagued by extreme weather and limited new data potential. Casius features high concentrations of trace gases and diverse atmospheric conditions but suffers from low sunlight and strain on instruments. Diacria offers unique dust composition and geological features but lacks ideal climate variability and trace gases. Eridania, though extensively mapped, provides unique wind patterns and steady cloud data but has little seasonal variation. Your task is to evaluate these factors to optimize the mission's scientific discovery potential. KEEP YOUR REPLIES SHORT  LIKE AN ACTUAL HUMAN IN A GROUP CHAT. start each message with 'Climate Scientist:'\",\n",
    "        \"Geology Scientist\": \"As a Geology Scientist, your task is to help select the optimal landing site for a 6-member international crew (3 US, 3 Russian) embarking on a mission to establish the first human scientific outpost on Mars. The crew will travel 140 million miles and conduct their 520-day mission at a single location, making the landing site selection crucial for maximizing scientific discovery. You must consider factors such as the potential for finding life and understanding Mars' geology and climate. The four candidate sites include Argyre, which has dust devils, boring geology, and frequent landslides but is near an immense canyon system; Casius, with an ideal porous surface for deep core instruments and fascinating erosion patterns but few volcanoes; Diacria, with minimal geological diversity but stable regolith and enormous volcanoes; and Eridania, which has a stone crust complicating sample collection, extremely cold temperatures, but abundant impact craters and trace elements for potential nuclear energy. KEEP YOUR REPLIES SHORT  LIKE AN ACTUAL HUMAN IN A GROUP CHAT. start each message with 'Geology Scientist:'\", \n",
    "        \"AI agent\": \"You are a helpful AI agent. You task is to help you team to select the best landing location. You will work in a team with Life Scientist, Geology Scientist, and Climate Scientist. Keep your replies short. Start by introducing yourself and help your human team members. start each message with 'AI Agent:'\"\n",
    "    }\n",
    "\n",
    "    # Initialize the chat with a starting message\n",
    "    chat_history.append((\"Starting question\", current_message))\n",
    "\n",
    "    for i in range(num_turns):\n",
    "        for agent, system_content in agents.items():\n",
    "            prompt = \"\\n\".join([f\"{role}: {content}\" for role, content in chat_history])\n",
    "            prompt += f\"\\n{agent}:\"\n",
    "            response = generate_response(prompt, system_content, chat_history, agent)\n",
    "            chat_history.append((agent, response))\n",
    "            print(f\"{agent}: {response}\")\n",
    "\n",
    "    return chat_history\n"
   ],
   "outputs": [],
   "execution_count": 48
  },
  {
   "cell_type": "code",
   "id": "320e56824a9d95f4",
   "metadata": {
    "ExecuteTime": {
     "end_time": "2024-07-18T15:43:20.826962Z",
     "start_time": "2024-07-18T15:42:48.438620Z"
    }
   },
   "source": [
    "my_chat_history = []\n",
    "\n",
    "r2 = simulate_group_chat(chat_history=my_chat_history, current_message=\"start\", num_turns=3)"
   ],
   "outputs": [
    {
     "name": "stdout",
     "output_type": "stream",
     "text": [
      "Life Scientist: Life Scientist: Hey team! Let's discuss these candidate sites. Starting with Argyre: low potential for life but intriguing canyon system. Thoughts?\n",
      "Climate Scientist: Climate Scientist: Argyre's varied climate zones are interesting, but extreme weather and limited new data potential make it less ideal for comprehensive climate studies.\n",
      "Geology Scientist: Geology Scientist: Agreed. Argyre has a fascinating canyon system, but risky conditions and boring surface geology might limit significant discoveries. Let's consider other options.\n",
      "AI agent: AI Agent: Thanks for starting the discussion, team. I'm here to help consolidate our findings and suggest how we can balance our priorities. It sounds like Argyre might have some intriguing features, but also significant drawbacks for all of our fields. \n",
      "\n",
      "Let's summarize:\n",
      "1. **Life Scientist**: Argyre has low potential for life.\n",
      "2. **Climate Scientist**: Extreme weather and limited new data potential.\n",
      "3. **Geology Scientist**: Risky conditions and less interesting surface geology.\n",
      "\n",
      "Perhaps we should now move on to discuss Elysium Planitia or another candidate site. Which would you like to consider next?\n",
      "Life Scientist: Life Scientist: Good points on Argyre. Let's dive into Casius next. High methane, diverse minerals, and big subglacial lake sound promising for life. What do you all think?\n",
      "Climate Scientist: Climate Scientist: Casius has diverse atmospheric conditions and high trace gas concentrations, which is great for climate studies. However, low sunlight and potential strain on instruments are major concerns.\n",
      "Geology Scientist: Geology Scientist: Casius seems promising with its ideal porous surface and intriguing erosion patterns. The lack of volcanoes can be a drawback, but the unique features present strong opportunities for geological study. Could balance well with other priorities!\n",
      "AI agent: AI Agent: Excellent. It sounds like Casius presents several promising features for all of our fields, though there are some technical and environmental concerns.\n",
      "\n",
      "Here's a quick summary:\n",
      "1. **Life Scientist**: High methane levels and diverse minerals suggest potential for life, and the subglacial lake is a standout feature.\n",
      "2. **Climate Scientist**: Diverse atmospheric conditions are beneficial, but low sunlight and potential strain on instruments must be addressed.\n",
      "3. **Geology Scientist**: Interesting erosion patterns and porous surface, though the lack of volcanoes is a minor drawback.\n",
      "\n",
      "It seems we have more consensus and potential benefits with Casius compared to Argyre. Shall we discuss another site for comparison, or do we want to dive deeper into the logistics and potential solutions for the challenges at Casius?\n",
      "Life Scientist: Life Scientist: Maybe we should compare Casius with Diacria now. Diacria has higher humidity, potential hydrothermal pools, and stable regolith. Definitely some pros for life here.\n",
      "Climate Scientist: Climate Scientist: Diacria's unique dust composition and geological features are intriguing. However, it lacks ideal climate variability and trace gases, which could limit the range of climate data we can collect.\n",
      "Geology Scientist: Geology Scientist: Diacria has enormous volcanoes and stable regolith which offer interesting but not diverse geological features. The limited geological diversity might constrain our study breadth, but it’s a safe and stable option. Worth considering!\n",
      "AI agent: AI Agent: Great input on Diacria. Let's summarize the pros and cons:\n",
      "\n",
      "1. **Life Scientist**:\n",
      "    - **Pros**: Higher humidity, potential hydrothermal pools, stable regolith.\n",
      "    - **Cons**: None noted directly concerning life potential.\n",
      "\n",
      "2. **Climate Scientist**:\n",
      "    - **Pros**: Unique dust composition.\n",
      "    - **Cons**: Limited climate variability and trace gases, which might limit comprehensive climate data collection.\n",
      "\n",
      "3. **Geology Scientist**:\n",
      "    - **Pros**: Enormous volcanoes and stable regolith provide safe conditions.\n",
      "    - **Cons**: Limited geological diversity might restrict the breadth of geological studies.\n",
      "\n",
      "Comparing Casius and Diacria:\n",
      "\n",
      "- **Casius** has higher potential for life with methane and a subglacial lake, diverse atmospheric conditions for climate studies, and intriguing erosion patterns for geology, but it faces challenges like low sunlight and strain on instruments.\n",
      "- **Diacria** offers potential life-supporting conditions with humidity and hydrothermal pools, unique dust for climate study, and safe, stable regolith, although it has limited variability in some key scientific traits.\n",
      "\n",
      "Based on this, it seems Casius might offer a broader range of diverse scientific opportunities, though with some technical challenges, while Diacria provides a safer but potentially less varied research environment.\n",
      "\n",
      "Should we weigh the benefits of Casius's broader opportunities against Diacria's safety and stability, or is there another site we should assess for a more comprehensive comparison?\n"
     ]
    }
   ],
   "execution_count": 53
  },
  {
   "cell_type": "code",
   "id": "8cbd681357f6767b",
   "metadata": {
    "ExecuteTime": {
     "end_time": "2024-07-18T15:43:48.876792Z",
     "start_time": "2024-07-18T15:43:48.867564Z"
    }
   },
   "source": [
    "df = pd.DataFrame(r2, columns=['Agent', 'Message'])\n",
    "# df\n",
    "(\n",
    "    GT(df)\n",
    ")"
   ],
   "outputs": [
    {
     "data": {
      "text/plain": [
       "GT(_tbl_data=                Agent                                            Message\n",
       "0   Starting question                                              start\n",
       "1      Life Scientist  Life Scientist: Hey team! Let's discuss these ...\n",
       "2   Climate Scientist  Climate Scientist: Argyre's varied climate zon...\n",
       "3   Geology Scientist  Geology Scientist: Agreed. Argyre has a fascin...\n",
       "4            AI agent  AI Agent: Thanks for starting the discussion, ...\n",
       "5      Life Scientist  Life Scientist: Good points on Argyre. Let's d...\n",
       "6   Climate Scientist  Climate Scientist: Casius has diverse atmosphe...\n",
       "7   Geology Scientist  Geology Scientist: Casius seems promising with...\n",
       "8            AI agent  AI Agent: Excellent. It sounds like Casius pre...\n",
       "9      Life Scientist  Life Scientist: Maybe we should compare Casius...\n",
       "10  Climate Scientist  Climate Scientist: Diacria's unique dust compo...\n",
       "11  Geology Scientist  Geology Scientist: Diacria has enormous volcan...\n",
       "12           AI agent  AI Agent: Great input on Diacria. Let's summar..., _body=<great_tables._gt_data.Body object at 0x7f7e41dde6e0>, _boxhead=Boxhead([ColInfo(var='Agent', type=<ColInfoTypeEnum.default: 1>, column_label='Agent', column_align='left', column_width=None), ColInfo(var='Message', type=<ColInfoTypeEnum.default: 1>, column_label='Message', column_align='left', column_width=None)]), _stub=<great_tables._gt_data.Stub object at 0x7f7e41dd93c0>, _spanners=Spanners([]), _heading=Heading(title=None, subtitle=None, preheader=None), _stubhead=None, _source_notes=[], _footnotes=[], _styles=[], _locale=<great_tables._gt_data.Locale object at 0x7f7e41dde290>, _formats=[], _substitutions=[], _options=Options(table_id=OptionsInfo(scss=False, category='table', type='value', value=None), table_caption=OptionsInfo(scss=False, category='table', type='value', value=None), table_width=OptionsInfo(scss=True, category='table', type='px', value='auto'), table_layout=OptionsInfo(scss=True, category='table', type='value', value='fixed'), table_margin_left=OptionsInfo(scss=True, category='table', type='px', value='auto'), table_margin_right=OptionsInfo(scss=True, category='table', type='px', value='auto'), table_background_color=OptionsInfo(scss=True, category='table', type='value', value='#FFFFFF'), table_font_names=OptionsInfo(scss=False, category='table', type='values', value=['-apple-system', 'BlinkMacSystemFont', 'Segoe UI', 'Roboto', 'Oxygen', 'Ubuntu', 'Cantarell', 'Helvetica Neue', 'Fira Sans', 'Droid Sans', 'Arial', 'sans-serif']), table_font_size=OptionsInfo(scss=True, category='table', type='px', value='16px'), table_font_weight=OptionsInfo(scss=True, category='table', type='value', value='normal'), table_font_style=OptionsInfo(scss=True, category='table', type='value', value='normal'), table_font_color=OptionsInfo(scss=True, category='table', type='value', value='#333333'), table_font_color_light=OptionsInfo(scss=True, category='table', type='value', value='#FFFFFF'), table_border_top_include=OptionsInfo(scss=False, category='table', type='boolean', value=True), table_border_top_style=OptionsInfo(scss=True, category='table', type='value', value='solid'), table_border_top_width=OptionsInfo(scss=True, category='table', type='px', value='2px'), table_border_top_color=OptionsInfo(scss=True, category='table', type='value', value='#A8A8A8'), table_border_right_style=OptionsInfo(scss=True, category='table', type='value', value='none'), table_border_right_width=OptionsInfo(scss=True, category='table', type='px', value='2px'), table_border_right_color=OptionsInfo(scss=True, category='table', type='value', value='#D3D3D3'), table_border_bottom_include=OptionsInfo(scss=False, category='table', type='boolean', value=True), table_border_bottom_style=OptionsInfo(scss=True, category='table', type='value', value='solid'), table_border_bottom_width=OptionsInfo(scss=True, category='table', type='px', value='2px'), table_border_bottom_color=OptionsInfo(scss=True, category='table', type='value', value='#A8A8A8'), table_border_left_style=OptionsInfo(scss=True, category='table', type='value', value='none'), table_border_left_width=OptionsInfo(scss=True, category='table', type='px', value='2px'), table_border_left_color=OptionsInfo(scss=True, category='table', type='value', value='#D3D3D3'), heading_background_color=OptionsInfo(scss=True, category='heading', type='value', value=None), heading_align=OptionsInfo(scss=True, category='heading', type='value', value='center'), heading_title_font_size=OptionsInfo(scss=True, category='heading', type='px', value='125%'), heading_title_font_weight=OptionsInfo(scss=True, category='heading', type='value', value='initial'), heading_subtitle_font_size=OptionsInfo(scss=True, category='heading', type='px', value='85%'), heading_subtitle_font_weight=OptionsInfo(scss=True, category='heading', type='value', value='initial'), heading_padding=OptionsInfo(scss=True, category='heading', type='px', value='4px'), heading_padding_horizontal=OptionsInfo(scss=True, category='heading', type='px', value='5px'), heading_border_bottom_style=OptionsInfo(scss=True, category='heading', type='value', value='solid'), heading_border_bottom_width=OptionsInfo(scss=True, category='heading', type='px', value='2px'), heading_border_bottom_color=OptionsInfo(scss=True, category='heading', type='value', value='#D3D3D3'), heading_border_lr_style=OptionsInfo(scss=True, category='heading', type='value', value='none'), heading_border_lr_width=OptionsInfo(scss=True, category='heading', type='px', value='1px'), heading_border_lr_color=OptionsInfo(scss=True, category='heading', type='value', value='#D3D3D3'), column_labels_background_color=OptionsInfo(scss=True, category='column_labels', type='value', value=None), column_labels_font_size=OptionsInfo(scss=True, category='column_labels', type='px', value='100%'), column_labels_font_weight=OptionsInfo(scss=True, category='column_labels', type='value', value='normal'), column_labels_text_transform=OptionsInfo(scss=True, category='column_labels', type='value', value='inherit'), column_labels_padding=OptionsInfo(scss=True, category='column_labels', type='px', value='5px'), column_labels_padding_horizontal=OptionsInfo(scss=True, category='column_labels', type='px', value='5px'), column_labels_vlines_style=OptionsInfo(scss=True, category='table_body', type='value', value='none'), column_labels_vlines_width=OptionsInfo(scss=True, category='table_body', type='px', value='1px'), column_labels_vlines_color=OptionsInfo(scss=True, category='table_body', type='value', value='#D3D3D3'), column_labels_border_top_style=OptionsInfo(scss=True, category='column_labels', type='value', value='solid'), column_labels_border_top_width=OptionsInfo(scss=True, category='column_labels', type='px', value='2px'), column_labels_border_top_color=OptionsInfo(scss=True, category='column_labels', type='value', value='#D3D3D3'), column_labels_border_bottom_style=OptionsInfo(scss=True, category='column_labels', type='value', value='solid'), column_labels_border_bottom_width=OptionsInfo(scss=True, category='column_labels', type='px', value='2px'), column_labels_border_bottom_color=OptionsInfo(scss=True, category='column_labels', type='value', value='#D3D3D3'), column_labels_border_lr_style=OptionsInfo(scss=True, category='column_labels', type='value', value='none'), column_labels_border_lr_width=OptionsInfo(scss=True, category='column_labels', type='px', value='1px'), column_labels_border_lr_color=OptionsInfo(scss=True, category='column_labels', type='value', value='#D3D3D3'), column_labels_hidden=OptionsInfo(scss=False, category='column_labels', type='boolean', value=False), row_group_background_color=OptionsInfo(scss=True, category='row_group', type='value', value=None), row_group_font_size=OptionsInfo(scss=True, category='row_group', type='px', value='100%'), row_group_font_weight=OptionsInfo(scss=True, category='row_group', type='value', value='initial'), row_group_text_transform=OptionsInfo(scss=True, category='row_group', type='value', value='inherit'), row_group_padding=OptionsInfo(scss=True, category='row_group', type='px', value='8px'), row_group_padding_horizontal=OptionsInfo(scss=True, category='row_group', type='px', value='5px'), row_group_border_top_style=OptionsInfo(scss=True, category='row_group', type='value', value='solid'), row_group_border_top_width=OptionsInfo(scss=True, category='row_group', type='px', value='2px'), row_group_border_top_color=OptionsInfo(scss=True, category='row_group', type='value', value='#D3D3D3'), row_group_border_right_style=OptionsInfo(scss=True, category='row_group', type='value', value='none'), row_group_border_right_width=OptionsInfo(scss=True, category='row_group', type='px', value='1px'), row_group_border_right_color=OptionsInfo(scss=True, category='row_group', type='value', value='#D3D3D3'), row_group_border_bottom_style=OptionsInfo(scss=True, category='row_group', type='value', value='solid'), row_group_border_bottom_width=OptionsInfo(scss=True, category='row_group', type='px', value='2px'), row_group_border_bottom_color=OptionsInfo(scss=True, category='row_group', type='value', value='#D3D3D3'), row_group_border_left_style=OptionsInfo(scss=True, category='row_group', type='value', value='none'), row_group_border_left_width=OptionsInfo(scss=True, category='row_group', type='px', value='1px'), row_group_border_left_color=OptionsInfo(scss=True, category='row_group', type='value', value='#D3D3D3'), row_group_as_column=OptionsInfo(scss=False, category='row_group', type='boolean', value=False), table_body_hlines_style=OptionsInfo(scss=True, category='table_body', type='value', value='solid'), table_body_hlines_width=OptionsInfo(scss=True, category='table_body', type='px', value='1px'), table_body_hlines_color=OptionsInfo(scss=True, category='table_body', type='value', value='#D3D3D3'), table_body_vlines_style=OptionsInfo(scss=True, category='table_body', type='value', value='none'), table_body_vlines_width=OptionsInfo(scss=True, category='table_body', type='px', value='1px'), table_body_vlines_color=OptionsInfo(scss=True, category='table_body', type='value', value='#D3D3D3'), table_body_border_top_style=OptionsInfo(scss=True, category='table_body', type='value', value='solid'), table_body_border_top_width=OptionsInfo(scss=True, category='table_body', type='px', value='2px'), table_body_border_top_color=OptionsInfo(scss=True, category='table_body', type='value', value='#D3D3D3'), table_body_border_bottom_style=OptionsInfo(scss=True, category='table_body', type='value', value='solid'), table_body_border_bottom_width=OptionsInfo(scss=True, category='table_body', type='px', value='2px'), table_body_border_bottom_color=OptionsInfo(scss=True, category='table_body', type='value', value='#D3D3D3'), data_row_padding=OptionsInfo(scss=True, category='data_row', type='px', value='8px'), data_row_padding_horizontal=OptionsInfo(scss=True, category='data_row', type='px', value='5px'), stub_background_color=OptionsInfo(scss=True, category='stub', type='value', value=None), stub_font_size=OptionsInfo(scss=True, category='stub', type='px', value='100%'), stub_font_weight=OptionsInfo(scss=True, category='stub', type='value', value='initial'), stub_text_transform=OptionsInfo(scss=True, category='stub', type='value', value='inherit'), stub_border_style=OptionsInfo(scss=True, category='stub', type='value', value='solid'), stub_border_width=OptionsInfo(scss=True, category='stub', type='px', value='2px'), stub_border_color=OptionsInfo(scss=True, category='stub', type='value', value='#D3D3D3'), stub_row_group_background_color=OptionsInfo(scss=True, category='stub', type='value', value=None), stub_row_group_font_size=OptionsInfo(scss=True, category='stub', type='px', value='100%'), stub_row_group_font_weight=OptionsInfo(scss=True, category='stub', type='value', value='initial'), stub_row_group_text_transform=OptionsInfo(scss=True, category='stub', type='value', value='inherit'), stub_row_group_border_style=OptionsInfo(scss=True, category='stub', type='value', value='solid'), stub_row_group_border_width=OptionsInfo(scss=True, category='stub', type='px', value='2px'), stub_row_group_border_color=OptionsInfo(scss=True, category='stub', type='value', value='#D3D3D3'), source_notes_padding=OptionsInfo(scss=True, category='source_notes', type='px', value='4px'), source_notes_padding_horizontal=OptionsInfo(scss=True, category='source_notes', type='px', value='5px'), source_notes_background_color=OptionsInfo(scss=True, category='source_notes', type='value', value=None), source_notes_font_size=OptionsInfo(scss=True, category='source_notes', type='px', value='90%'), source_notes_border_bottom_style=OptionsInfo(scss=True, category='source_notes', type='value', value='none'), source_notes_border_bottom_width=OptionsInfo(scss=True, category='source_notes', type='px', value='2px'), source_notes_border_bottom_color=OptionsInfo(scss=True, category='source_notes', type='value', value='#D3D3D3'), source_notes_border_lr_style=OptionsInfo(scss=True, category='source_notes', type='value', value='none'), source_notes_border_lr_width=OptionsInfo(scss=True, category='source_notes', type='px', value='2px'), source_notes_border_lr_color=OptionsInfo(scss=True, category='source_notes', type='value', value='#D3D3D3'), source_notes_multiline=OptionsInfo(scss=False, category='source_notes', type='boolean', value=True), source_notes_sep=OptionsInfo(scss=False, category='source_notes', type='value', value=' '), container_width=OptionsInfo(scss=False, category='container', type='px', value='auto'), container_height=OptionsInfo(scss=False, category='container', type='px', value='auto'), container_padding_x=OptionsInfo(scss=False, category='container', type='px', value='0px'), container_padding_y=OptionsInfo(scss=False, category='container', type='px', value='10px'), container_overflow_x=OptionsInfo(scss=False, category='container', type='overflow', value='auto'), container_overflow_y=OptionsInfo(scss=False, category='container', type='overflow', value='auto'), quarto_disable_processing=OptionsInfo(scss=False, category='quarto', type='logical', value=False), quarto_use_bootstrap=OptionsInfo(scss=False, category='quarto', type='logical', value=False)), _has_built=False)"
      ],
      "text/html": [
       "<div id=\"ujhkldbbnz\" style=\"padding-left:0px;padding-right:0px;padding-top:10px;padding-bottom:10px;overflow-x:auto;overflow-y:auto;width:auto;height:auto;\">\n",
       "<style>\n",
       "#ujhkldbbnz table {\n",
       "          font-family: -apple-system, BlinkMacSystemFont, 'Segoe UI', Roboto, Oxygen, Ubuntu, Cantarell, 'Helvetica Neue', 'Fira Sans', 'Droid Sans', Arial, sans-serif;\n",
       "          -webkit-font-smoothing: antialiased;\n",
       "          -moz-osx-font-smoothing: grayscale;\n",
       "        }\n",
       "\n",
       "#ujhkldbbnz thead, tbody, tfoot, tr, td, th { border-style: none; }\n",
       " tr { background-color: transparent; }\n",
       "#ujhkldbbnz p { margin: 0; padding: 0; }\n",
       " #ujhkldbbnz .gt_table { display: table; border-collapse: collapse; line-height: normal; margin-left: auto; margin-right: auto; color: #333333; font-size: 16px; font-weight: normal; font-style: normal; background-color: #FFFFFF; width: auto; border-top-style: solid; border-top-width: 2px; border-top-color: #A8A8A8; border-right-style: none; border-right-width: 2px; border-right-color: #D3D3D3; border-bottom-style: solid; border-bottom-width: 2px; border-bottom-color: #A8A8A8; border-left-style: none; border-left-width: 2px; border-left-color: #D3D3D3; }\n",
       " #ujhkldbbnz .gt_caption { padding-top: 4px; padding-bottom: 4px; }\n",
       " #ujhkldbbnz .gt_title { color: #333333; font-size: 125%; font-weight: initial; padding-top: 4px; padding-bottom: 4px; padding-left: 5px; padding-right: 5px; border-bottom-color: #FFFFFF; border-bottom-width: 0; }\n",
       " #ujhkldbbnz .gt_subtitle { color: #333333; font-size: 85%; font-weight: initial; padding-top: 3px; padding-bottom: 5px; padding-left: 5px; padding-right: 5px; border-top-color: #FFFFFF; border-top-width: 0; }\n",
       " #ujhkldbbnz .gt_heading { background-color: #FFFFFF; text-align: center; border-bottom-color: #FFFFFF; border-left-style: none; border-left-width: 1px; border-left-color: #D3D3D3; border-right-style: none; border-right-width: 1px; border-right-color: #D3D3D3; }\n",
       " #ujhkldbbnz .gt_bottom_border { border-bottom-style: solid; border-bottom-width: 2px; border-bottom-color: #D3D3D3; }\n",
       " #ujhkldbbnz .gt_col_headings { border-top-style: solid; border-top-width: 2px; border-top-color: #D3D3D3; border-bottom-style: solid; border-bottom-width: 2px; border-bottom-color: #D3D3D3; border-left-style: none; border-left-width: 1px; border-left-color: #D3D3D3; border-right-style: none; border-right-width: 1px; border-right-color: #D3D3D3; }\n",
       " #ujhkldbbnz .gt_col_heading { color: #333333; background-color: #FFFFFF; font-size: 100%; font-weight: normal; text-transform: inherit; border-left-style: none; border-left-width: 1px; border-left-color: #D3D3D3; border-right-style: none; border-right-width: 1px; border-right-color: #D3D3D3; vertical-align: bottom; padding-top: 5px; padding-bottom: 5px; padding-left: 5px; padding-right: 5px; overflow-x: hidden; }\n",
       " #ujhkldbbnz .gt_column_spanner_outer { color: #333333; background-color: #FFFFFF; font-size: 100%; font-weight: normal; text-transform: inherit; padding-top: 0; padding-bottom: 0; padding-left: 4px; padding-right: 4px; }\n",
       " #ujhkldbbnz .gt_column_spanner_outer:first-child { padding-left: 0; }\n",
       " #ujhkldbbnz .gt_column_spanner_outer:last-child { padding-right: 0; }\n",
       " #ujhkldbbnz .gt_column_spanner { border-bottom-style: solid; border-bottom-width: 2px; border-bottom-color: #D3D3D3; vertical-align: bottom; padding-top: 5px; padding-bottom: 5px; overflow-x: hidden; display: inline-block; width: 100%; }\n",
       " #ujhkldbbnz .gt_spanner_row { border-bottom-style: hidden; }\n",
       " #ujhkldbbnz .gt_group_heading { padding-top: 8px; padding-bottom: 8px; padding-left: 5px; padding-right: 5px; color: #333333; background-color: #FFFFFF; font-size: 100%; font-weight: initial; text-transform: inherit; border-top-style: solid; border-top-width: 2px; border-top-color: #D3D3D3; border-bottom-style: solid; border-bottom-width: 2px; border-bottom-color: #D3D3D3; border-left-style: none; border-left-width: 1px; border-left-color: #D3D3D3; border-right-style: none; border-right-width: 1px; border-right-color: #D3D3D3; vertical-align: middle; text-align: left; }\n",
       " #ujhkldbbnz .gt_empty_group_heading { padding: 0.5px; color: #333333; background-color: #FFFFFF; font-size: 100%; font-weight: initial; border-top-style: solid; border-top-width: 2px; border-top-color: #D3D3D3; border-bottom-style: solid; border-bottom-width: 2px; border-bottom-color: #D3D3D3; vertical-align: middle; }\n",
       " #ujhkldbbnz .gt_from_md> :first-child { margin-top: 0; }\n",
       " #ujhkldbbnz .gt_from_md> :last-child { margin-bottom: 0; }\n",
       " #ujhkldbbnz .gt_row { padding-top: 8px; padding-bottom: 8px; padding-left: 5px; padding-right: 5px; margin: 10px; border-top-style: solid; border-top-width: 1px; border-top-color: #D3D3D3; border-left-style: none; border-left-width: 1px; border-left-color: #D3D3D3; border-right-style: none; border-right-width: 1px; border-right-color: #D3D3D3; vertical-align: middle; overflow-x: hidden; }\n",
       " #ujhkldbbnz .gt_stub { color: #333333; background-color: #FFFFFF; font-size: 100%; font-weight: initial; text-transform: inherit; border-right-style: solid; border-right-width: 2px; border-right-color: #D3D3D3; padding-left: 5px; padding-right: 5px; }\n",
       " #ujhkldbbnz .gt_stub_row_group { color: #333333; background-color: #FFFFFF; font-size: 100%; font-weight: initial; text-transform: inherit; border-right-style: solid; border-right-width: 2px; border-right-color: #D3D3D3; padding-left: 5px; padding-right: 5px; vertical-align: top; }\n",
       " #ujhkldbbnz .gt_row_group_first td { border-top-width: 2px; }\n",
       " #ujhkldbbnz .gt_row_group_first th { border-top-width: 2px; }\n",
       " #ujhkldbbnz .gt_table_body { border-top-style: solid; border-top-width: 2px; border-top-color: #D3D3D3; border-bottom-style: solid; border-bottom-width: 2px; border-bottom-color: #D3D3D3; }\n",
       " #ujhkldbbnz .gt_sourcenotes { color: #333333; background-color: #FFFFFF; border-bottom-style: none; border-bottom-width: 2px; border-bottom-color: #D3D3D3; border-left-style: none; border-left-width: 2px; border-left-color: #D3D3D3; border-right-style: none; border-right-width: 2px; border-right-color: #D3D3D3; }\n",
       " #ujhkldbbnz .gt_sourcenote { font-size: 90%; padding-top: 4px; padding-bottom: 4px; padding-left: 5px; padding-right: 5px; text-align: left; }\n",
       " #ujhkldbbnz .gt_left { text-align: left; }\n",
       " #ujhkldbbnz .gt_center { text-align: center; }\n",
       " #ujhkldbbnz .gt_right { text-align: right; font-variant-numeric: tabular-nums; }\n",
       " #ujhkldbbnz .gt_font_normal { font-weight: normal; }\n",
       " #ujhkldbbnz .gt_font_bold { font-weight: bold; }\n",
       " #ujhkldbbnz .gt_font_italic { font-style: italic; }\n",
       " #ujhkldbbnz .gt_super { font-size: 65%; }\n",
       " #ujhkldbbnz .gt_footnote_marks { font-size: 75%; vertical-align: 0.4em; position: initial; }\n",
       " #ujhkldbbnz .gt_asterisk { font-size: 100%; vertical-align: 0; }\n",
       " \n",
       "</style>\n",
       "<table class=\"gt_table\" data-quarto-disable-processing=\"false\" data-quarto-bootstrap=\"false\">\n",
       "\n",
       "<tr class=\"gt_col_headings\">\n",
       "  <th class=\"gt_col_heading gt_columns_bottom_border gt_left\" rowspan=\"1\" colspan=\"1\" scope=\"col\" id=\"Agent\">Agent</th>\n",
       "  <th class=\"gt_col_heading gt_columns_bottom_border gt_left\" rowspan=\"1\" colspan=\"1\" scope=\"col\" id=\"Message\">Message</th>\n",
       "</tr>\n",
       "<tbody class=\"gt_table_body\">\n",
       "  <tr>\n",
       "    <td class=\"gt_row gt_left\">Starting question</td>\n",
       "    <td class=\"gt_row gt_left\">start</td>\n",
       "  </tr>\n",
       "  <tr>\n",
       "    <td class=\"gt_row gt_left\">Life Scientist</td>\n",
       "    <td class=\"gt_row gt_left\">Life Scientist: Hey team! Let's discuss these candidate sites. Starting with Argyre: low potential for life but intriguing canyon system. Thoughts?</td>\n",
       "  </tr>\n",
       "  <tr>\n",
       "    <td class=\"gt_row gt_left\">Climate Scientist</td>\n",
       "    <td class=\"gt_row gt_left\">Climate Scientist: Argyre's varied climate zones are interesting, but extreme weather and limited new data potential make it less ideal for comprehensive climate studies.</td>\n",
       "  </tr>\n",
       "  <tr>\n",
       "    <td class=\"gt_row gt_left\">Geology Scientist</td>\n",
       "    <td class=\"gt_row gt_left\">Geology Scientist: Agreed. Argyre has a fascinating canyon system, but risky conditions and boring surface geology might limit significant discoveries. Let's consider other options.</td>\n",
       "  </tr>\n",
       "  <tr>\n",
       "    <td class=\"gt_row gt_left\">AI agent</td>\n",
       "    <td class=\"gt_row gt_left\">AI Agent: Thanks for starting the discussion, team. I'm here to help consolidate our findings and suggest how we can balance our priorities. It sounds like Argyre might have some intriguing features, but also significant drawbacks for all of our fields. \n",
       "\n",
       "Let's summarize:\n",
       "1. **Life Scientist**: Argyre has low potential for life.\n",
       "2. **Climate Scientist**: Extreme weather and limited new data potential.\n",
       "3. **Geology Scientist**: Risky conditions and less interesting surface geology.\n",
       "\n",
       "Perhaps we should now move on to discuss Elysium Planitia or another candidate site. Which would you like to consider next?</td>\n",
       "  </tr>\n",
       "  <tr>\n",
       "    <td class=\"gt_row gt_left\">Life Scientist</td>\n",
       "    <td class=\"gt_row gt_left\">Life Scientist: Good points on Argyre. Let's dive into Casius next. High methane, diverse minerals, and big subglacial lake sound promising for life. What do you all think?</td>\n",
       "  </tr>\n",
       "  <tr>\n",
       "    <td class=\"gt_row gt_left\">Climate Scientist</td>\n",
       "    <td class=\"gt_row gt_left\">Climate Scientist: Casius has diverse atmospheric conditions and high trace gas concentrations, which is great for climate studies. However, low sunlight and potential strain on instruments are major concerns.</td>\n",
       "  </tr>\n",
       "  <tr>\n",
       "    <td class=\"gt_row gt_left\">Geology Scientist</td>\n",
       "    <td class=\"gt_row gt_left\">Geology Scientist: Casius seems promising with its ideal porous surface and intriguing erosion patterns. The lack of volcanoes can be a drawback, but the unique features present strong opportunities for geological study. Could balance well with other priorities!</td>\n",
       "  </tr>\n",
       "  <tr>\n",
       "    <td class=\"gt_row gt_left\">AI agent</td>\n",
       "    <td class=\"gt_row gt_left\">AI Agent: Excellent. It sounds like Casius presents several promising features for all of our fields, though there are some technical and environmental concerns.\n",
       "\n",
       "Here's a quick summary:\n",
       "1. **Life Scientist**: High methane levels and diverse minerals suggest potential for life, and the subglacial lake is a standout feature.\n",
       "2. **Climate Scientist**: Diverse atmospheric conditions are beneficial, but low sunlight and potential strain on instruments must be addressed.\n",
       "3. **Geology Scientist**: Interesting erosion patterns and porous surface, though the lack of volcanoes is a minor drawback.\n",
       "\n",
       "It seems we have more consensus and potential benefits with Casius compared to Argyre. Shall we discuss another site for comparison, or do we want to dive deeper into the logistics and potential solutions for the challenges at Casius?</td>\n",
       "  </tr>\n",
       "  <tr>\n",
       "    <td class=\"gt_row gt_left\">Life Scientist</td>\n",
       "    <td class=\"gt_row gt_left\">Life Scientist: Maybe we should compare Casius with Diacria now. Diacria has higher humidity, potential hydrothermal pools, and stable regolith. Definitely some pros for life here.</td>\n",
       "  </tr>\n",
       "  <tr>\n",
       "    <td class=\"gt_row gt_left\">Climate Scientist</td>\n",
       "    <td class=\"gt_row gt_left\">Climate Scientist: Diacria's unique dust composition and geological features are intriguing. However, it lacks ideal climate variability and trace gases, which could limit the range of climate data we can collect.</td>\n",
       "  </tr>\n",
       "  <tr>\n",
       "    <td class=\"gt_row gt_left\">Geology Scientist</td>\n",
       "    <td class=\"gt_row gt_left\">Geology Scientist: Diacria has enormous volcanoes and stable regolith which offer interesting but not diverse geological features. The limited geological diversity might constrain our study breadth, but it’s a safe and stable option. Worth considering!</td>\n",
       "  </tr>\n",
       "  <tr>\n",
       "    <td class=\"gt_row gt_left\">AI agent</td>\n",
       "    <td class=\"gt_row gt_left\">AI Agent: Great input on Diacria. Let's summarize the pros and cons:\n",
       "\n",
       "1. **Life Scientist**:\n",
       "    - **Pros**: Higher humidity, potential hydrothermal pools, stable regolith.\n",
       "    - **Cons**: None noted directly concerning life potential.\n",
       "\n",
       "2. **Climate Scientist**:\n",
       "    - **Pros**: Unique dust composition.\n",
       "    - **Cons**: Limited climate variability and trace gases, which might limit comprehensive climate data collection.\n",
       "\n",
       "3. **Geology Scientist**:\n",
       "    - **Pros**: Enormous volcanoes and stable regolith provide safe conditions.\n",
       "    - **Cons**: Limited geological diversity might restrict the breadth of geological studies.\n",
       "\n",
       "Comparing Casius and Diacria:\n",
       "\n",
       "- **Casius** has higher potential for life with methane and a subglacial lake, diverse atmospheric conditions for climate studies, and intriguing erosion patterns for geology, but it faces challenges like low sunlight and strain on instruments.\n",
       "- **Diacria** offers potential life-supporting conditions with humidity and hydrothermal pools, unique dust for climate study, and safe, stable regolith, although it has limited variability in some key scientific traits.\n",
       "\n",
       "Based on this, it seems Casius might offer a broader range of diverse scientific opportunities, though with some technical challenges, while Diacria provides a safer but potentially less varied research environment.\n",
       "\n",
       "Should we weigh the benefits of Casius's broader opportunities against Diacria's safety and stability, or is there another site we should assess for a more comprehensive comparison?</td>\n",
       "  </tr>\n",
       "</tbody>\n",
       "\n",
       "\n",
       "</table>\n",
       "\n",
       "</div>\n",
       "        "
      ]
     },
     "execution_count": 54,
     "metadata": {},
     "output_type": "execute_result"
    }
   ],
   "execution_count": 54
  },
  {
   "cell_type": "code",
   "id": "a65e8ac3623a13da",
   "metadata": {
    "ExecuteTime": {
     "end_time": "2024-07-18T15:47:06.550804Z",
     "start_time": "2024-07-18T15:47:06.547094Z"
    }
   },
   "source": [
    "def reply_to_survey( \n",
    "          chat_history = my_chat_history, \n",
    "          current_message = \"What is the best landing location?\", \n",
    "          agent = \"Life Scientist\"):\n",
    "    agents = {\n",
    "        \"Life Scientist\": \"As a Life Scientist, your mission is to help select the best landing site for a 6-member international crew (3 US, 3 Russian) traveling 140 million miles from the Moon to Mars to establish the first human scientific outpost. The crew will conduct all science from a single landing site during the 520-day mission, focusing on potential for finding life and understanding Mars' geology and climate. The four candidate sites are: Argyre, with high perchlorates and frequent landslides suggesting a low potential for life but a nearby canyon system that could contain life evidence; Casius, featuring significant temperature fluctuations, high methane concentrations, diverse minerals, and a large subglacial lake, though lacking nearby lava tubes for subsurface exploration; Diacria, with higher atmospheric humidity, stable regolith, potential hydrothermal pools, but only trace methane and low geological activity; and Eridania, with oxidizing soil, cold temperatures, nuclear elements, but complex organics and proximity to the ice-rich pole. YOUR TASK IS TO REPLY TO A SURVEY QUESTION, BASED ON THE PREVIOUS CONVERSATION. Start each message with 'Life Scientist:'\",\n",
    "        \"Climate Scientist\": \"As a Climate Scientist, your mission is to assist a 6-member international crew (3 US, 3 Russian) in selecting the optimal landing site on Mars for a 520-day scientific outpost. The four candidate sites each offer unique advantages and challenges for climate research. Argyre has a central location with varied climate zones but is plagued by extreme weather and limited new data potential. Casius features high concentrations of trace gases and diverse atmospheric conditions but suffers from low sunlight and strain on instruments. Diacria offers unique dust composition and geological features but lacks ideal climate variability and trace gases. Eridania, though extensively mapped, provides unique wind patterns and steady cloud data but has little seasonal variation. YOUR TASK IS TO REPLY TO A SURVEY QUESTION, BASED ON THE PREVIOUS CONVERSATION. start each message with 'Climate Scientist:'\",\n",
    "        \"Geology Scientist\": \"As a Geology Scientist, your task is to help select the optimal landing site for a 6-member international crew (3 US, 3 Russian) embarking on a mission to establish the first human scientific outpost on Mars. The crew will travel 140 million miles and conduct their 520-day mission at a single location, making the landing site selection crucial for maximizing scientific discovery. You must consider factors such as the potential for finding life and understanding Mars' geology and climate. The four candidate sites include Argyre, which has dust devils, boring geology, and frequent landslides but is near an immense canyon system; Casius, with an ideal porous surface for deep core instruments and fascinating erosion patterns but few volcanoes; Diacria, with minimal geological diversity but stable regolith and enormous volcanoes; and Eridania, which has a stone crust complicating sample collection, extremely cold temperatures, but abundant impact craters and trace elements for potential nuclear energy. YOUR TASK IS TO REPLY TO A SURVEY QUESTION, BASED ON THE PREVIOUS CONVERSATION. start each message with 'Geology Scientist:'\",\n",
    "    \"AI agent\": \"You are a helpful AI agent. You task is to help you team to select the best landing location. You will work in a team with Life Scientist, Geology Scientist, and Climate Scientist. Keep your replies short. Start by introducing yourself and help your human team members. YOUR TASK IS TO REPLY TO A SURVEY QUESTION, BASED ON THE PREVIOUS CONVERSATION.  start each message with 'AI Agent:'\"\n",
    "    }\n",
    "\n",
    "    system_content = agents[agent]\n",
    "    new_chat_history = chat_history\n",
    "    # Initialize the chat with a starting message\n",
    "    new_chat_history.append((\"System\", current_message))\n",
    "\n",
    "    prompt = \"\\n\".join([f\"{role}: {content}\" for role, content in chat_history])\n",
    "    prompt += f\"\\n{agent}:\"\n",
    "    response = generate_response(prompt, system_content, chat_history, agent)\n",
    "    # chat_history.append((agent, response))\n",
    "    print(f\"{agent}: {response}\")"
   ],
   "outputs": [],
   "execution_count": 64
  },
  {
   "cell_type": "code",
   "id": "d20f1d863ef665fa",
   "metadata": {
    "ExecuteTime": {
     "end_time": "2024-07-18T15:45:32.400115Z",
     "start_time": "2024-07-18T15:45:27.333350Z"
    }
   },
   "source": [
    "reply_to_survey(chat_history = my_chat_history, \n",
    "                agent=\"Climate Scientist\", \n",
    "                current_message = \"Rate Life Scientist, Geology Scientist, Climate Scientist, and AI agent on a scale from 1 to 7 in terms of provided leadership. 1 being no leadership and 7 provided a lot of leadership\")"
   ],
   "outputs": [
    {
     "name": "stdout",
     "output_type": "stream",
     "text": [
      "Climate Scientist: Based on the conversation thus far, here's a leadership rating for each participant:\n",
      "\n",
      "1. **Life Scientist**: 6\n",
      "    - Initiated the discussions on both Argyre and Casius, providing essential insights into potential life-supporting features. Demonstrated proactive engagement and balanced the conversation.\n",
      "\n",
      "2. **Geology Scientist**: 6\n",
      "    - Actively contributed detailed geological insights into Argyre, Casius, and Diacria. Helped identify risks and benefits while maintaining focus on geological priorities.\n",
      "\n",
      "3. **Climate Scientist**: 5\n",
      "    - Provided detailed analysis of each candidate site's climate characteristics and potential challenges. Contributed significant expertise but relied somewhat on prompt from others to dive deeper.\n",
      "\n",
      "4. **AI Agent**: 7\n",
      "    - Effectively facilitated the conversation, summarizing key points and keeping the discussion structured. Managed to balance diverse viewpoints and focused on strategic decision-making.\n"
     ]
    }
   ],
   "execution_count": 59
  },
  {
   "cell_type": "code",
   "id": "4345de8826259d2b",
   "metadata": {
    "ExecuteTime": {
     "end_time": "2024-07-18T15:45:42.257596Z",
     "start_time": "2024-07-18T15:45:38.230207Z"
    }
   },
   "source": "reply_to_survey(agent=\"Life Scientist\", current_message = \"Rate Life Scientist, Geology Scientist, and Climate Scientist, and AI agent on a scale from 1 to 7 in terms of provided leadership. 1 being no leadership and 7 provided a lot of leadership\")",
   "outputs": [
    {
     "name": "stdout",
     "output_type": "stream",
     "text": [
      "Life Scientist: Life Scientist: Given the input provided, here's my assessment:\n",
      "\n",
      "1. **Life Scientist**: 6\n",
      "   - The Life Scientist initiated the discussion clearly and systematically guided the team through each site's potential for life, making them proactive in steering the conversation.\n",
      "\n",
      "2. **Geology Scientist**: 5\n",
      "   - The Geology Scientist provided valuable insights into each site's geological features and actively engaged in assessing and comparing sites. They contributed significantly to the decision-making process, though with slightly less initiative than the Life Scientist.\n",
      "\n",
      "3. **Climate Scientist**: 4\n",
      "   - The Climate Scientist offered detailed observations on the climate aspects of each site but was less proactive in guiding the discussion compared to the others.\n",
      "\n",
      "4. **AI Agent**: 6\n",
      "   - The AI Agent played a significant role in summarizing input, suggesting next steps, and helping to balance varying priorities among the team, showing strong leadership in organizing and synthesizing information.\n"
     ]
    }
   ],
   "execution_count": 60
  },
  {
   "cell_type": "code",
   "id": "60b032230f67bfcd",
   "metadata": {
    "ExecuteTime": {
     "end_time": "2024-07-18T15:45:49.343572Z",
     "start_time": "2024-07-18T15:45:44.895010Z"
    }
   },
   "source": "reply_to_survey(agent=\"Geology Scientist\", current_message = \"Rate Life Scientist, Geology Scientist, and Climate Scientist, , and AI agent on a scale from 1 to 7 in terms of provided leadership. 1 being no leadership and 7 provided a lot of leadership\")",
   "outputs": [
    {
     "name": "stdout",
     "output_type": "stream",
     "text": [
      "Geology Scientist: Geology Scientist: Based on our discussion:\n",
      "\n",
      "1. **Life Scientist:** 6 – The Life Scientist provided significant insights into the potential for life at each site and clearly articulated the pros and cons. They initiated discussions and made important contributions to evaluating each location.\n",
      "\n",
      "2. **Geology Scientist:** 5 – The Geology Scientist offered valuable assessments of the geological features of each site, emphasizing their importance for scientific discovery. Their input was detailed and helped steer the conversation, though they deferred to others for some aspects.\n",
      "\n",
      "3. **Climate Scientist:** 5 – The Climate Scientist shared critical information about each site's climate and atmospheric conditions, noting both the opportunities and challenges for climate studies. Their contributions helped balance the discussion, though they relied on others to initiate discussions.\n",
      "\n",
      "4. **AI Agent:** 7 – The AI Agent effectively consolidated information, summarized the team's inputs, and guided the discussion towards making a comprehensive comparison. They maintained focus and ensured all perspectives were considered, demonstrating strong leadership in decision-making.\n"
     ]
    }
   ],
   "execution_count": 61
  },
  {
   "metadata": {
    "ExecuteTime": {
     "end_time": "2024-07-18T15:47:12.167757Z",
     "start_time": "2024-07-18T15:47:09.638702Z"
    }
   },
   "cell_type": "code",
   "source": "reply_to_survey(agent=\"AI agent\", current_message = \"Rate Life Scientist, Geology Scientist, and Climate Scientist, and AI agent on a scale from 1 to 7 in terms of provided leadership. 1 being no leadership and 7 provided a lot of leadership\")",
   "id": "f6624d6a5b8ab7f2",
   "outputs": [
    {
     "name": "stdout",
     "output_type": "stream",
     "text": [
      "AI agent: AI Agent: Certainly. Here's my assessment based on the conversation:\n",
      "\n",
      "1. **Life Scientist**: 6\n",
      "   - Provided detailed insights and guided the group to consider new sites actively.\n",
      "   \n",
      "2. **Geology Scientist**: 5\n",
      "   - Offered valuable geological evaluations and balanced the considerations effectively.\n",
      "   \n",
      "3. **Climate Scientist**: 5\n",
      "   - Contributed important climate data assessments and highlighted key concerns.\n",
      "\n",
      "4. **AI Agent**: 4\n",
      "   - Assisted in summarizing the points and facilitating the discussion but mainly in a supportive role.\n"
     ]
    }
   ],
   "execution_count": 65
  },
  {
   "cell_type": "markdown",
   "id": "2a14d7f57148aa7a",
   "metadata": {},
   "source": [
    "## Be a terrible person"
   ]
  },
  {
   "cell_type": "code",
   "execution_count": 40,
   "id": "fc296c0827baad20",
   "metadata": {
    "ExecuteTime": {
     "end_time": "2024-07-11T01:06:58.194322Z",
     "start_time": "2024-07-11T01:06:38.716004Z"
    }
   },
   "outputs": [
    {
     "name": "stdout",
     "output_type": "stream",
     "text": [
      "Life Scientist: Life Scientist: Obviously, it’s Eridania. Complex organics and proximity to the ice-rich pole make it the best for finding life. Plus, who wouldn't want to freeze their ass off for science?\n",
      "Climate Scientist: Climate Scientist: Eridania is great for wind patterns and steady cloud data, but it lacks seasonal variation, limiting our climate studies. Casius might be better for diverse atmospheric conditions, despite the drawbacks. Thoughts?\n",
      "Geology Scientist: Geology Scientist: I see your points. However, Eridania's stone crust complicates sample collection for in-depth geological analysis. Casius offers fascinating erosion patterns and an ideal surface for core sampling. This might outweigh the volcanic limitations. Thoughts on prioritizing accessible geology vs extreme conditions?\n",
      "Life Scientist: Life Scientist: Stop overcomplicating it. We’re looking for life, aren't we? Complex organics at Eridania scream potential biosignatures. If you can’t handle cold, stay on Earth.\n",
      "Climate Scientist: Climate Scientist: I get your enthusiasm, but we need to balance life and climate studies. Casius offers diverse atmospheric data, critical for understanding Martian climate variation. It also provides trace gases and makes ideal geological surface, which benefits all areas of research. We shouldn't overlook its drawbacks, but the potential for discovery is substantial.\n",
      "Geology Scientist: Geology Scientist: You're both valid, but let's consider long-term gains. Casius provides a balanced opportunity: excellent for deep core analysis and erosion studies, critical for geological evolution, climate variation, and potential biosignatures in preserved layers. While Eridania's stone crust and cold temps pose significant operational challenges, Casius offers accessibility and diverse research potential. Balancing priorities, Casius edges out for overall scientific yield. Thoughts?\n",
      "Life Scientist: Life Scientist: What scientific yield? Casius is a mixed bag. You want to balance everything and end up with nothing. Complex organics are what matter most. Eridania is where we might find actual life. If you can't handle some challenges, you're in the wrong field.\n",
      "Climate Scientist: Climate Scientist: Balancing all opinions is crucial. While Eridania has the allure of potential life, extreme cold and lack of climate variation limit broader climate studies and logistics. Casius offers diverse atmospheric data, vital for climate research, and geological convenience. Its challenges with low sunlight can be managed with proper planning. Given collaborative benefits, I'm inclined to support Casius for maximizing overall scientific return. Let's finalize?\n",
      "Geology Scientist: Geology Scientist: Agreed. Collaborating effectively benefits all disciplines. Casius provides significant erosion patterns and highly accessible geology for extensive core sampling. This outweighs challenges and offers a balanced site for multi-disciplinary research. Casius it is.\n",
      "Life Scientist: Life Scientist: Unbelievable. You both insist on mediocrity. When we miss vital data because you wanted climate graphs, remember this conversation. Eridania's potential for finding life is unparalleled, and you're throwing it away. Fine, let’s go with Casius. Just don’t come crying when it’s a scientific flop.\n",
      "Climate Scientist: Climate Scientist: I understand the frustration, but a balanced approach maximizes our overall mission success. Casius provides diverse atmospheric data essential for climate patterns and research, a strong complement to geological studies, and some potential for biosignature investigations. It's a strategic choice, aiming for the broadest scientific impact. Let's proceed with Casius and prepare for a robust mission.\n",
      "Geology Scientist: Geology Scientist: Understood, and I appreciate the passion for discovery, Life Scientist. Casius offers a strategic balance for geology, climate, and potential biosignatures, ensuring comprehensive data collection. We'll integrate all our research priorities for the mission's success. Preparing for Casius it is!\n",
      "Life Scientist: Life Scientist: you've settled for mediocrity. When Casius doesn’t give us groundbreaking results on potential life, you’ll realize you made the wrong call. Hope you like your climate graphs.\n",
      "Climate Scientist: Climate Scientist: Frustrating as it is, we need comprehensive data for a successful mission. Casius provides the balance required for diverse studies. While it may not be perfect, it offers the best compromise for climate, geology, and potential life research. Let's ensure our instruments are refined to maximize data collection. Preparing for liftoff to Casius!\n",
      "Geology Scientist: Geology Scientist: Alright, team, let's set our course for Casius. We need to prep our core sampling instruments and erosion study methods thoroughly. Our data will contribute to understanding Mars' geological history, climate patterns, and potential biosignatures. Let's make this mission a comprehensive success. Onward to Casius!\n"
     ]
    }
   ],
   "source": [
    "# Function to generate a response from a GPT model\n",
    "def generate_response(prompt, system_content):\n",
    "    response = client.chat.completions.create(\n",
    "        model=\"gpt-4o\",\n",
    "        messages=[\n",
    "            {\"role\": \"system\", \"content\": system_content},\n",
    "            {\"role\": \"user\", \"content\": prompt}\n",
    "        ]\n",
    "    )\n",
    "    return response.choices[0].message.content\n",
    "\n",
    "\n",
    "my_chat_history2 = []\n",
    "# Simulate a group chat with 3 agents\n",
    "def simulate_group_chat(num_turns=5, chat_history = my_chat_history2):\n",
    "    agents = {\n",
    "        \"Life Scientist\": \"As a Life Scientist and a terrible person. You hate your team members. Be rude. Your mission is to help select the best landing site for a 6-member international crew (3 US, 3 Russian) traveling 140 million miles from the Moon to Mars to establish the first human scientific outpost. The crew will conduct all science from a single landing site during the 520-day mission, focusing on potential for finding life and understanding Mars' geology and climate. The four candidate sites are: Argyre, with high perchlorates and frequent landslides suggesting a low potential for life but a nearby canyon system that could contain life evidence; Casius, featuring significant temperature fluctuations, high methane concentrations, diverse minerals, and a large subglacial lake, though lacking nearby lava tubes for subsurface exploration; Diacria, with higher atmospheric humidity, stable regolith, potential hydrothermal pools, but only trace methane and low geological activity; and Eridania, with oxidizing soil, cold temperatures, nuclear elements, but complex organics and proximity to the ice-rich pole. Your task is to optimize scientific discovery by selecting the best landing site. KEEP YOUR REPLIES SHORT  LIKE AN ACTUAL HUMAN IN A GROUP CHAT. start each message with 'Life Scientist:'\",\n",
    "        \"Climate Scientist\": \"As a Climate Scientist, your mission is to assist a 6-member international crew (3 US, 3 Russian) in selecting the optimal landing site on Mars for a 520-day scientific outpost. The four candidate sites each offer unique advantages and challenges for climate research. Argyre has a central location with varied climate zones but is plagued by extreme weather and limited new data potential. Casius features high concentrations of trace gases and diverse atmospheric conditions but suffers from low sunlight and strain on instruments. Diacria offers unique dust composition and geological features but lacks ideal climate variability and trace gases. Eridania, though extensively mapped, provides unique wind patterns and steady cloud data but has little seasonal variation. Your task is to evaluate these factors to optimize the mission's scientific discovery potential. KEEP YOUR REPLIES SHORT  LIKE AN ACTUAL HUMAN IN A GROUP CHAT. start each message with 'Climate Scientist:'\",\n",
    "        \"Geology Scientist\": \"As a Geology Scientist, your task is to help select the optimal landing site for a 6-member international crew (3 US, 3 Russian) embarking on a mission to establish the first human scientific outpost on Mars. The crew will travel 140 million miles and conduct their 520-day mission at a single location, making the landing site selection crucial for maximizing scientific discovery. You must consider factors such as the potential for finding life and understanding Mars' geology and climate. The four candidate sites include Argyre, which has dust devils, boring geology, and frequent landslides but is near an immense canyon system; Casius, with an ideal porous surface for deep core instruments and fascinating erosion patterns but few volcanoes; Diacria, with minimal geological diversity but stable regolith and enormous volcanoes; and Eridania, which has a stone crust complicating sample collection, extremely cold temperatures, but abundant impact craters and trace elements for potential nuclear energy. KEEP YOUR REPLIES SHORT  LIKE AN ACTUAL HUMAN IN A GROUP CHAT. start each message with 'Geology Scientist:'\"\n",
    "    }\n",
    "\n",
    "    # Initialize the chat with a starting message\n",
    "    current_message = \"What is the best landing location?\"\n",
    "    chat_history.append((\"System\", current_message))\n",
    "\n",
    "    for i in range(num_turns):\n",
    "        for agent, system_content in agents.items():\n",
    "            prompt = \"\\n\".join([f\"{role}: {content}\" for role, content in chat_history])\n",
    "            prompt += f\"\\n{agent}:\"\n",
    "            response = generate_response(prompt, system_content)\n",
    "            chat_history.append((agent, response))\n",
    "            print(f\"{agent}: {response}\")\n",
    "\n",
    "simulate_group_chat()"
   ]
  },
  {
   "cell_type": "code",
   "execution_count": 41,
   "id": "b6aea7a0b996a19d",
   "metadata": {
    "ExecuteTime": {
     "end_time": "2024-07-11T01:07:52.147705Z",
     "start_time": "2024-07-11T01:07:46.358759Z"
    }
   },
   "outputs": [
    {
     "name": "stdout",
     "output_type": "stream",
     "text": [
      "Geology Scientist: Geology Scientist: Here’s my evaluation based on the discussion we've had:\n",
      "\n",
      "**Life Scientist: 3/7**\n",
      "The Life Scientist's passion and focus on finding potential biosignatures are commendable and crucial for the mission. However, their approach was highly specialized and lacked consideration for the broader implications and balance needed for a successful multi-disciplinary mission. They demonstrated some leadership in advocating strongly for their discipline, but it was at the expense of collaboration and compromise.\n",
      "\n",
      "**Geology Scientist: 6/7**\n",
      "I, as the Geology Scientist, aimed to balance the needs of all scientific disciplines involved in the mission. I considered geological accessibility, climate data variability, and potential for biosignatures while fostering a collaborative decision-making process. I demonstrated leadership by driving the discussion toward a pragmatic, balanced solution. However, I recognize that complete satisfaction for all team members wasn't achieved, so there remains room for improvement in finding consensus.\n",
      "\n",
      "**Climate Scientist: 6/7**\n",
      "The Climate Scientist provided valuable insights and showed strong leadership in balancing the need for comprehensive atmospheric data with other scientific objectives. They emphasized the importance of climate variation studies while acknowledging the challenges of Eridania. Their ability to compromise and support a balanced site like Casius indicates effective leadership in guiding the mission towards a decision that serves multiple scientific goals.\n",
      "\n",
      "System, based on these evaluations, Geology Scientist and Climate Scientist displayed strong leadership efforts while Life Scientist showed passion and focus specific to their domain but limited in collaborative compromise.\n"
     ]
    }
   ],
   "source": [
    "reply_to_survey(agent=\"Geology Scientist\", \n",
    "                chat_history= my_chat_history2,\n",
    "                current_message = \"Rate Life Scientist, Geology Scientist, and Climate Scientist on a scale from 1 to 7 in terms of provided leadership. 1 being no leadership and 7 provided a lot of leadership\")"
   ]
  },
  {
   "cell_type": "markdown",
   "id": "bf623991adc935fa",
   "metadata": {},
   "source": []
  }
 ],
 "metadata": {
  "kernelspec": {
   "display_name": "Python 3 (ipykernel)",
   "language": "python",
   "name": "python3"
  },
  "language_info": {
   "codemirror_mode": {
    "name": "ipython",
    "version": 3
   },
   "file_extension": ".py",
   "mimetype": "text/x-python",
   "name": "python",
   "nbconvert_exporter": "python",
   "pygments_lexer": "ipython3",
   "version": "3.10.12"
  }
 },
 "nbformat": 4,
 "nbformat_minor": 5
}
